{
 "cells": [
  {
   "cell_type": "code",
   "id": "initial_id",
   "metadata": {
    "collapsed": true,
    "ExecuteTime": {
     "end_time": "2025-07-09T17:21:54.192288Z",
     "start_time": "2025-07-09T17:21:53.330987Z"
    }
   },
   "source": [
    "from langchain_community.document_loaders import TextLoader     #Rawtext to format langchain works with\n",
    "from langchain_text_splitters import CharacterTextSplitter      #split whole document containing description into meaningful chunks\n",
    "from langchain_openai import OpenAIEmbeddings                   #converting those chunks into document embeddings\n",
    "from langchain_chroma import Chroma                             #store those into vector database"
   ],
   "outputs": [],
   "execution_count": 1
  },
  {
   "metadata": {},
   "cell_type": "code",
   "outputs": [],
   "execution_count": null,
   "source": "",
   "id": "2ba48258f5fc28e2"
  }
 ],
 "metadata": {
  "kernelspec": {
   "display_name": "Python 3",
   "language": "python",
   "name": "python3"
  },
  "language_info": {
   "codemirror_mode": {
    "name": "ipython",
    "version": 2
   },
   "file_extension": ".py",
   "mimetype": "text/x-python",
   "name": "python",
   "nbconvert_exporter": "python",
   "pygments_lexer": "ipython2",
   "version": "2.7.6"
  }
 },
 "nbformat": 4,
 "nbformat_minor": 5
}
