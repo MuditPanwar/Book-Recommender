{
 "cells": [
  {
   "cell_type": "code",
   "id": "initial_id",
   "metadata": {
    "collapsed": true,
    "ExecuteTime": {
     "end_time": "2025-07-11T17:41:17.999927Z",
     "start_time": "2025-07-11T17:41:17.915379Z"
    }
   },
   "source": [
    "import pandas as pd\n",
    "books = pd.read_csv('books_categorized.csv')"
   ],
   "outputs": [],
   "execution_count": 1
  },
  {
   "metadata": {
    "ExecuteTime": {
     "end_time": "2025-07-11T17:47:08.493470Z",
     "start_time": "2025-07-11T17:47:06.444628Z"
    }
   },
   "cell_type": "code",
   "source": [
    "from transformers import pipeline\n",
    "classifier = pipeline(\"text-classification\",\n",
    "                      model=\"j-hartmann/emotion-english-distilroberta-base\",\n",
    "                      top_k = None,\n",
    "                      device = \"mps\")\n",
    "classifier(\"I love this!\")"
   ],
   "id": "c8a6fdd02ba37080",
   "outputs": [
    {
     "name": "stderr",
     "output_type": "stream",
     "text": [
      "Device set to use mps\n"
     ]
    },
    {
     "data": {
      "text/plain": [
       "[[{'label': 'joy', 'score': 0.9771687984466553},\n",
       "  {'label': 'surprise', 'score': 0.00852868054062128},\n",
       "  {'label': 'neutral', 'score': 0.00576459476724267},\n",
       "  {'label': 'anger', 'score': 0.004419783595949411},\n",
       "  {'label': 'sadness', 'score': 0.002092391485348344},\n",
       "  {'label': 'disgust', 'score': 0.001611992483958602},\n",
       "  {'label': 'fear', 'score': 0.00041385198710486293}]]"
      ]
     },
     "execution_count": 3,
     "metadata": {},
     "output_type": "execute_result"
    }
   ],
   "execution_count": 3
  },
  {
   "metadata": {
    "ExecuteTime": {
     "end_time": "2025-07-11T17:47:42.073422Z",
     "start_time": "2025-07-11T17:47:42.061542Z"
    }
   },
   "cell_type": "code",
   "source": "books[\"description\"][0]",
   "id": "8fc47bd7669170df",
   "outputs": [
    {
     "data": {
      "text/plain": [
       "'A NOVEL THAT READERS and critics have been eagerly anticipating for over a decade, Gilead is an astonishingly imagined story of remarkable lives. John Ames is a preacher, the son of a preacher and the grandson (both maternal and paternal) of preachers. It’s 1956 in Gilead, Iowa, towards the end of the Reverend Ames’s life, and he is absorbed in recording his family’s story, a legacy for the young son he will never see grow up. Haunted by his grandfather’s presence, John tells of the rift between his grandfather and his father: the elder, an angry visionary who fought for the abolitionist cause, and his son, an ardent pacifist. He is troubled, too, by his prodigal namesake, Jack (John Ames) Boughton, his best friend’s lost son who returns to Gilead searching for forgiveness and redemption. Told in John Ames’s joyous, rambling voice that finds beauty, humour and truth in the smallest of life’s details, Gilead is a song of celebration and acceptance of the best and the worst the world has to offer. At its heart is a tale of the sacred bonds between fathers and sons, pitch-perfect in style and story, set to dazzle critics and readers alike.'"
      ]
     },
     "execution_count": 4,
     "metadata": {},
     "output_type": "execute_result"
    }
   ],
   "execution_count": 4
  },
  {
   "metadata": {
    "ExecuteTime": {
     "end_time": "2025-07-11T17:48:14.621656Z",
     "start_time": "2025-07-11T17:48:13.500113Z"
    }
   },
   "cell_type": "code",
   "source": "classifier(books[\"description\"][0])",
   "id": "2ebf2ddc45a8a736",
   "outputs": [
    {
     "data": {
      "text/plain": [
       "[[{'label': 'fear', 'score': 0.6548422574996948},\n",
       "  {'label': 'neutral', 'score': 0.16985155642032623},\n",
       "  {'label': 'sadness', 'score': 0.11640843003988266},\n",
       "  {'label': 'surprise', 'score': 0.020700642839074135},\n",
       "  {'label': 'disgust', 'score': 0.019100701436400414},\n",
       "  {'label': 'joy', 'score': 0.015161211602389812},\n",
       "  {'label': 'anger', 'score': 0.003935141488909721}]]"
      ]
     },
     "execution_count": 5,
     "metadata": {},
     "output_type": "execute_result"
    }
   ],
   "execution_count": 5
  },
  {
   "metadata": {
    "ExecuteTime": {
     "end_time": "2025-07-11T17:49:27.237532Z",
     "start_time": "2025-07-11T17:49:21.031043Z"
    }
   },
   "cell_type": "code",
   "source": "classifier(books[\"description\"][0].split(\".\"))",
   "id": "87d2bcdef2c04415",
   "outputs": [
    {
     "data": {
      "text/plain": [
       "[[{'label': 'surprise', 'score': 0.7296021580696106},\n",
       "  {'label': 'neutral', 'score': 0.14038625359535217},\n",
       "  {'label': 'fear', 'score': 0.06816215068101883},\n",
       "  {'label': 'joy', 'score': 0.0479423962533474},\n",
       "  {'label': 'anger', 'score': 0.009156353771686554},\n",
       "  {'label': 'disgust', 'score': 0.0026284793857485056},\n",
       "  {'label': 'sadness', 'score': 0.0021221640054136515}],\n",
       " [{'label': 'neutral', 'score': 0.44937190413475037},\n",
       "  {'label': 'disgust', 'score': 0.2735902965068817},\n",
       "  {'label': 'joy', 'score': 0.1090828999876976},\n",
       "  {'label': 'sadness', 'score': 0.09362740814685822},\n",
       "  {'label': 'anger', 'score': 0.04047819972038269},\n",
       "  {'label': 'surprise', 'score': 0.02697022259235382},\n",
       "  {'label': 'fear', 'score': 0.00687906239181757}],\n",
       " [{'label': 'neutral', 'score': 0.6462162137031555},\n",
       "  {'label': 'sadness', 'score': 0.24273328483104706},\n",
       "  {'label': 'disgust', 'score': 0.043422579765319824},\n",
       "  {'label': 'surprise', 'score': 0.028300493955612183},\n",
       "  {'label': 'joy', 'score': 0.014211435802280903},\n",
       "  {'label': 'fear', 'score': 0.014084085822105408},\n",
       "  {'label': 'anger', 'score': 0.011031859554350376}],\n",
       " [{'label': 'fear', 'score': 0.9281688332557678},\n",
       "  {'label': 'anger', 'score': 0.03219037875533104},\n",
       "  {'label': 'neutral', 'score': 0.012808619067072868},\n",
       "  {'label': 'sadness', 'score': 0.00875683780759573},\n",
       "  {'label': 'surprise', 'score': 0.008597852662205696},\n",
       "  {'label': 'disgust', 'score': 0.008431759662926197},\n",
       "  {'label': 'joy', 'score': 0.001045577460899949}],\n",
       " [{'label': 'sadness', 'score': 0.9671575427055359},\n",
       "  {'label': 'neutral', 'score': 0.015104164369404316},\n",
       "  {'label': 'disgust', 'score': 0.006480592768639326},\n",
       "  {'label': 'fear', 'score': 0.005393995437771082},\n",
       "  {'label': 'surprise', 'score': 0.0022869398817420006},\n",
       "  {'label': 'anger', 'score': 0.0018428867915645242},\n",
       "  {'label': 'joy', 'score': 0.0017338780453428626}],\n",
       " [{'label': 'joy', 'score': 0.9327982664108276},\n",
       "  {'label': 'disgust', 'score': 0.03771692514419556},\n",
       "  {'label': 'neutral', 'score': 0.015891805291175842},\n",
       "  {'label': 'sadness', 'score': 0.006444476079195738},\n",
       "  {'label': 'anger', 'score': 0.005024957004934549},\n",
       "  {'label': 'surprise', 'score': 0.0015812045894563198},\n",
       "  {'label': 'fear', 'score': 0.0005423055263236165}],\n",
       " [{'label': 'joy', 'score': 0.6528705954551697},\n",
       "  {'label': 'neutral', 'score': 0.25427472591400146},\n",
       "  {'label': 'surprise', 'score': 0.06808312982320786},\n",
       "  {'label': 'sadness', 'score': 0.00990901980549097},\n",
       "  {'label': 'disgust', 'score': 0.0065122139640152454},\n",
       "  {'label': 'anger', 'score': 0.004821311682462692},\n",
       "  {'label': 'fear', 'score': 0.003529016161337495}],\n",
       " [{'label': 'neutral', 'score': 0.5494773387908936},\n",
       "  {'label': 'sadness', 'score': 0.11169011145830154},\n",
       "  {'label': 'disgust', 'score': 0.1040065661072731},\n",
       "  {'label': 'surprise', 'score': 0.07876542955636978},\n",
       "  {'label': 'anger', 'score': 0.06413352489471436},\n",
       "  {'label': 'fear', 'score': 0.05136272683739662},\n",
       "  {'label': 'joy', 'score': 0.040564339607954025}]]"
      ]
     },
     "execution_count": 6,
     "metadata": {},
     "output_type": "execute_result"
    }
   ],
   "execution_count": 6
  },
  {
   "metadata": {
    "ExecuteTime": {
     "end_time": "2025-07-11T17:51:45.633230Z",
     "start_time": "2025-07-11T17:51:44.628023Z"
    }
   },
   "cell_type": "code",
   "source": [
    "sentences = books[\"description\"][0].split(\".\")\n",
    "predictions = classifier(sentences)"
   ],
   "id": "28f14d86011db115",
   "outputs": [],
   "execution_count": 7
  },
  {
   "metadata": {
    "ExecuteTime": {
     "end_time": "2025-07-11T17:52:02.229530Z",
     "start_time": "2025-07-11T17:52:02.206267Z"
    }
   },
   "cell_type": "code",
   "source": "sentences[0]",
   "id": "7c65fcdca91ea794",
   "outputs": [
    {
     "data": {
      "text/plain": [
       "'A NOVEL THAT READERS and critics have been eagerly anticipating for over a decade, Gilead is an astonishingly imagined story of remarkable lives'"
      ]
     },
     "execution_count": 8,
     "metadata": {},
     "output_type": "execute_result"
    }
   ],
   "execution_count": 8
  },
  {
   "metadata": {
    "ExecuteTime": {
     "end_time": "2025-07-11T17:52:09.136135Z",
     "start_time": "2025-07-11T17:52:09.129457Z"
    }
   },
   "cell_type": "code",
   "source": "predictions[0]",
   "id": "6ccf0748a05c880",
   "outputs": [
    {
     "data": {
      "text/plain": [
       "[{'label': 'surprise', 'score': 0.7296021580696106},\n",
       " {'label': 'neutral', 'score': 0.14038625359535217},\n",
       " {'label': 'fear', 'score': 0.06816215068101883},\n",
       " {'label': 'joy', 'score': 0.0479423962533474},\n",
       " {'label': 'anger', 'score': 0.009156353771686554},\n",
       " {'label': 'disgust', 'score': 0.0026284793857485056},\n",
       " {'label': 'sadness', 'score': 0.0021221640054136515}]"
      ]
     },
     "execution_count": 9,
     "metadata": {},
     "output_type": "execute_result"
    }
   ],
   "execution_count": 9
  },
  {
   "metadata": {
    "ExecuteTime": {
     "end_time": "2025-07-11T17:52:16.948718Z",
     "start_time": "2025-07-11T17:52:16.941458Z"
    }
   },
   "cell_type": "code",
   "source": "predictions[3]",
   "id": "ff04a476c8f5c315",
   "outputs": [
    {
     "data": {
      "text/plain": [
       "[{'label': 'fear', 'score': 0.9281688332557678},\n",
       " {'label': 'anger', 'score': 0.03219037875533104},\n",
       " {'label': 'neutral', 'score': 0.012808619067072868},\n",
       " {'label': 'sadness', 'score': 0.00875683780759573},\n",
       " {'label': 'surprise', 'score': 0.008597852662205696},\n",
       " {'label': 'disgust', 'score': 0.008431759662926197},\n",
       " {'label': 'joy', 'score': 0.001045577460899949}]"
      ]
     },
     "execution_count": 10,
     "metadata": {},
     "output_type": "execute_result"
    }
   ],
   "execution_count": 10
  },
  {
   "metadata": {},
   "cell_type": "code",
   "outputs": [],
   "execution_count": null,
   "source": "",
   "id": "d8b559d0a8e008b2"
  }
 ],
 "metadata": {
  "kernelspec": {
   "display_name": "Python 3",
   "language": "python",
   "name": "python3"
  },
  "language_info": {
   "codemirror_mode": {
    "name": "ipython",
    "version": 2
   },
   "file_extension": ".py",
   "mimetype": "text/x-python",
   "name": "python",
   "nbconvert_exporter": "python",
   "pygments_lexer": "ipython2",
   "version": "2.7.6"
  }
 },
 "nbformat": 4,
 "nbformat_minor": 5
}
